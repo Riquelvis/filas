{
 "cells": [
  {
   "cell_type": "code",
   "execution_count": 83,
   "metadata": {},
   "outputs": [],
   "source": [
    "class Node:\n",
    "    def __init__(self, value):\n",
    "        self.value = value\n",
    "        self.next = None"
   ]
  },
  {
   "cell_type": "code",
   "execution_count": 142,
   "metadata": {},
   "outputs": [],
   "source": [
    "class Queue:\n",
    "    def __init__(self):\n",
    "        self.front = None\n",
    "        self.rear = None\n",
    "\n",
    "    def enqueue(self, value):\n",
    "        new_node = Node(value)\n",
    "\n",
    "        if self.front == None:\n",
    "            self.front = self.rear = new_node\n",
    "            return\n",
    "        self.rear.next = new_node\n",
    "        self.rear = new_node\n",
    "        \n",
    "    def dequeue(self):\n",
    "        if self.front == None:\n",
    "            raise Exception(\"Queue is empty\")\n",
    "        temp = self.front\n",
    "        self.front = self.front.next\n",
    "        return temp.value\n",
    "    \n",
    "    def peek(self):\n",
    "        if self.front == None:\n",
    "            raise Exception(\"Queue is empty\")\n",
    "        return self.front.value\n",
    "    \n",
    "    def is_empty(self):\n",
    "        return self.front == None\n",
    "    \n",
    "    def display_queue(self):\n",
    "        current = self.front\n",
    "        while current != None:\n",
    "           print(current.value, end=\" \")\n",
    "           current = current.next\n",
    "\n"
   ]
  },
  {
   "cell_type": "code",
   "execution_count": 145,
   "metadata": {},
   "outputs": [
    {
     "name": "stdout",
     "output_type": "stream",
     "text": [
      "10 15 20 25 "
     ]
    }
   ],
   "source": [
    "q = Queue()\n",
    "q.enqueue(10)\n",
    "q.enqueue(15)\n",
    "q.enqueue(20)\n",
    "q.enqueue(25)\n",
    "\n",
    "#q.display_queue()\n"
   ]
  },
  {
   "cell_type": "code",
   "execution_count": 194,
   "metadata": {},
   "outputs": [
    {
     "name": "stdout",
     "output_type": "stream",
     "text": [
      "depois de adicionais os novos elementos :\n",
      "4 5 6 "
     ]
    }
   ],
   "source": [
    "q.enqueue(4)\n",
    "q.enqueue(5)\n",
    "q.enqueue(6)\n",
    "\n",
    "# Exibir o estado atual da fila\n",
    "print(\"depois de adicionais os novos elementos :\")\n",
    "q.display_queue()"
   ]
  },
  {
   "cell_type": "code",
   "execution_count": 195,
   "metadata": {},
   "outputs": [
    {
     "name": "stdout",
     "output_type": "stream",
     "text": [
      " Dois elementos removidos:\n",
      "6 "
     ]
    }
   ],
   "source": [
    "q.dequeue()\n",
    "q.dequeue()\n",
    "\n",
    "print(\" Dois elementos removidos:\")\n",
    "q.display_queue()"
   ]
  },
  {
   "cell_type": "code",
   "execution_count": 197,
   "metadata": {},
   "outputs": [
    {
     "name": "stdout",
     "output_type": "stream",
     "text": [
      "visualizar o primeiro elemento da fila:\n",
      "6\n",
      "A fila não está vazia\n"
     ]
    }
   ],
   "source": [
    "\n",
    "print(\"visualizar o primeiro elemento da fila:\")\n",
    "print(q.peek())\n",
    "\n",
    "\n",
    "if q.is_empty():\n",
    "    print(\" fila está vazia\")\n",
    "else:\n",
    "    print(\"A fila não está vazia\")\n"
   ]
  }
 ],
 "metadata": {
  "kernelspec": {
   "display_name": "Python 3",
   "language": "python",
   "name": "python3"
  },
  "language_info": {
   "codemirror_mode": {
    "name": "ipython",
    "version": 3
   },
   "file_extension": ".py",
   "mimetype": "text/x-python",
   "name": "python",
   "nbconvert_exporter": "python",
   "pygments_lexer": "ipython3",
   "version": "3.11.8"
  }
 },
 "nbformat": 4,
 "nbformat_minor": 2
}
